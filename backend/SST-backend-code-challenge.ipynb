{
 "cells": [
  {
   "cell_type": "markdown",
   "metadata": {},
   "source": [
    "# Instructions\n",
    "Please find two programming tasks below. If you find something ambiguous, please note your assumptions and complete the tasks under those assumptions. Above all, we are looking for simple, clean solutions.\n",
    "\n",
    "There is no time constraint, but our expectation is for these exercises to take no longer than 45 minutes.\n",
    "\n"
   ]
  },
  {
   "cell_type": "markdown",
   "metadata": {},
   "source": [
    "# P0\n",
    "Given:\n",
    "\n",
    "1) a list of subscriptables (e.g. list, dict, tuple), and\n",
    "\n",
    "2) a subscript (i.e. a key for the subscriptable)\n",
    "\n",
    "Implement a function that groups the list into a dictionary, where the keys of the dictionary are the values obtained by indexing the subscriptables using the subscript.\n",
    "\n",
    "For example:\n",
    "```python\n",
    ">>> subscriptables = [\n",
    "    ['a', 'b', 'c'],\n",
    "    ['x', 'y', 'z'],\n",
    "    ['n', 'b', 'm']\n",
    "]\n",
    ">>> subscript = 1\n",
    ">>> subscriptables[0][subscript] # example of indexing\n",
    "'b'\n",
    ">>> group_by(subscriptables, subscript)\n",
    "{\n",
    "    'b': [\n",
    "        ['a', 'b', 'c'],\n",
    "        ['n', 'b', 'm']\n",
    "    ],\n",
    "    'y': [\n",
    "        ['x', 'y', 'z']\n",
    "    ]\n",
    "}\n",
    "```"
   ]
  },
  {
   "cell_type": "code",
   "execution_count": 9,
   "metadata": {},
   "outputs": [],
   "source": [
    "from collections import defaultdict\n",
    "\n",
    "def group_by(subscriptables: list, subscript) -> dict:\n",
    "    out = defaultdict(list)\n",
    "    for row in subscriptables:\n",
    "        out[row[subscript]].append(row)\n",
    "    return out"
   ]
  },
  {
   "cell_type": "markdown",
   "metadata": {},
   "source": [
    "### Works for Lists!"
   ]
  },
  {
   "cell_type": "code",
   "execution_count": 10,
   "metadata": {},
   "outputs": [
    {
     "data": {
      "text/plain": [
       "defaultdict(list,\n",
       "            {'b': [['a', 'b', 'c'], ['n', 'b', 'm']], 'y': [['x', 'y', 'z']]})"
      ]
     },
     "execution_count": 10,
     "metadata": {},
     "output_type": "execute_result"
    }
   ],
   "source": [
    "subscriptables = [\n",
    "    ['a', 'b', 'c'],\n",
    "    ['x', 'y', 'z'],\n",
    "    ['n', 'b', 'm']\n",
    "]\n",
    "group_by(subscriptables, 1)"
   ]
  },
  {
   "cell_type": "markdown",
   "metadata": {},
   "source": [
    "### Works for Tuples!"
   ]
  },
  {
   "cell_type": "code",
   "execution_count": 13,
   "metadata": {},
   "outputs": [
    {
     "data": {
      "text/plain": [
       "defaultdict(list, {'b': [('a', 'b'), ('n', 'b')], 'y': [('x', 'y')]})"
      ]
     },
     "execution_count": 13,
     "metadata": {},
     "output_type": "execute_result"
    }
   ],
   "source": [
    "subscriptables = [\n",
    "    ('a', 'b'),\n",
    "    ('x', 'y'),\n",
    "    ('n', 'b')\n",
    "]\n",
    "group_by(subscriptables, 1)"
   ]
  },
  {
   "cell_type": "markdown",
   "metadata": {},
   "source": [
    "### Works for Dictionaries!"
   ]
  },
  {
   "cell_type": "code",
   "execution_count": 12,
   "metadata": {},
   "outputs": [
    {
     "data": {
      "text/plain": [
       "defaultdict(list, {456: [{'a': 123, 'b': 456}], 321: [{'x': 123, 'b': 321}]})"
      ]
     },
     "execution_count": 12,
     "metadata": {},
     "output_type": "execute_result"
    }
   ],
   "source": [
    "subscriptables = [\n",
    "    {'a' : 123, 'b': 456},\n",
    "    {'x' : 123, 'b': 321}\n",
    "]\n",
    "group_by(subscriptables, 'b')"
   ]
  },
  {
   "cell_type": "markdown",
   "metadata": {},
   "source": [
    "# P1\n",
    "\n",
    "##### Background\n",
    "We are looking to visualize a collection of continuous events on a timeline. Some events may be overlapping (e.g. end time of event \\#1 could fall between the start time and end time of event \\#2). We want to stack these events on different levels, such that there is no overlap in the visualization. \n",
    "\n",
    "For example, if three events have start and end time pairs (0, 50), (20, 60), and (55, 100), then the solution could be visualized as:\n",
    "\n",
    "```\n",
    "                          20                    60\n",
    "                          |                     |\n",
    "level 1                   ----------------------\n",
    "level 0            --------------------    -----------------\n",
    "                   |                  |    |               |\n",
    "                   0                  50  55              100  \n",
    "```\n",
    "##### Constraints\n",
    "- You must use the minimum number of required levels to stack the events such that they are not overlapping\n",
    "- An event must be assigned to the lowest unoccupied level available at its start time\n",
    "- If two events have the same time, the event with the lowest index in the input list must be placed in the lowest level\n",
    "\n",
    "##### Input\n",
    "A **list** of **dictionaries**, where each dictionary has two keys, `'start_time'` and `'end_time'`, with non-negative integers as values. You may assume that `'start_time'` < `'end_time'` for all event.\n",
    "\n",
    "##### Output\n",
    "The output must have the same format as the input (list of dictionaries), but with an additional attribute, `'level'`, having the integer level assigned to that event as the corresponding attribute.\n",
    "\n",
    "For example:\n",
    "```python\n",
    ">>> events = [\n",
    "    {\n",
    "        'start_time': 0,\n",
    "        'end_time': 50\n",
    "    }, \n",
    "    {\n",
    "        'start_time': 20,\n",
    "        'end_time': 60\n",
    "    }, \n",
    "    {\n",
    "        'start_time': 55,\n",
    "        'end_time': 100\n",
    "    }\n",
    "]\n",
    ">>> add_levels(events)\n",
    "[\n",
    "    {\n",
    "        'start_time': 0,\n",
    "        'end_time': 50,\n",
    "        'level': 0\n",
    "    }, \n",
    "    {\n",
    "        'start_time': 20,\n",
    "        'end_time': 60,    # event 0 occupies level 0 until time = 50,...\n",
    "        'level': 1         # ... so level 1 is the lowest unoccupied level\n",
    "    }, \n",
    "    {\n",
    "        'start_time': 55,\n",
    "        'end_time': 100,   # event 0 concluded at time = 50, making...\n",
    "        'level': 0         # ... level 0 available again\n",
    "    }\n",
    "]\n",
    "```\n"
   ]
  },
  {
   "cell_type": "code",
   "execution_count": 23,
   "metadata": {},
   "outputs": [],
   "source": [
    "from typing import List\n",
    "\n",
    "def add_levels(events: List[dict]) -> List[dict]:\n",
    "    \"\"\"\n",
    "    warning! this will overwrite the events object, events object should be copied to prevent this\n",
    "    \"\"\"\n",
    "    levels = [[events[0]]]\n",
    "    for event in events[1:]:\n",
    "        for i, level in enumerate(levels):\n",
    "            if level[-1]['end_time'] <= event['start_time']:\n",
    "                level.append(event)\n",
    "                break\n",
    "            elif i == len(levels) - 1:\n",
    "                levels.append([event])\n",
    "                break\n",
    "            else:\n",
    "                pass\n",
    "    for i, level in enumerate(levels):\n",
    "        for event in level:\n",
    "            event['level'] = i\n",
    "    return events"
   ]
  },
  {
   "cell_type": "markdown",
   "metadata": {},
   "source": [
    "# Assumptions\n",
    "1. the events list is ordered by start_time"
   ]
  },
  {
   "cell_type": "markdown",
   "metadata": {},
   "source": [
    "### Provided Example Works"
   ]
  },
  {
   "cell_type": "code",
   "execution_count": 24,
   "metadata": {},
   "outputs": [
    {
     "data": {
      "text/plain": [
       "[{'start_time': 0, 'end_time': 50, 'level': 0},\n",
       " {'start_time': 20, 'end_time': 60, 'level': 1},\n",
       " {'start_time': 55, 'end_time': 100, 'level': 0}]"
      ]
     },
     "execution_count": 24,
     "metadata": {},
     "output_type": "execute_result"
    }
   ],
   "source": [
    "add_levels([\n",
    "    {\n",
    "        'start_time': 0,\n",
    "        'end_time': 50\n",
    "    }, \n",
    "    {\n",
    "        'start_time': 20,\n",
    "        'end_time': 60\n",
    "    }, \n",
    "    {\n",
    "        'start_time': 55,\n",
    "        'end_time': 100\n",
    "    }\n",
    "])"
   ]
  },
  {
   "cell_type": "markdown",
   "metadata": {},
   "source": [
    "### Complex Example Works"
   ]
  },
  {
   "cell_type": "code",
   "execution_count": 25,
   "metadata": {},
   "outputs": [
    {
     "data": {
      "text/plain": [
       "[{'start_time': 0, 'end_time': 50, 'level': 0},\n",
       " {'start_time': 20, 'end_time': 60, 'level': 1},\n",
       " {'start_time': 40, 'end_time': 42, 'level': 2},\n",
       " {'start_time': 55, 'end_time': 100, 'level': 0},\n",
       " {'start_time': 56, 'end_time': 80, 'level': 2},\n",
       " {'start_time': 60, 'end_time': 101, 'level': 1},\n",
       " {'start_time': 80, 'end_time': 100, 'level': 2}]"
      ]
     },
     "execution_count": 25,
     "metadata": {},
     "output_type": "execute_result"
    }
   ],
   "source": [
    "add_levels([\n",
    "    {\n",
    "        'start_time': 0,\n",
    "        'end_time': 50\n",
    "    }, \n",
    "    {\n",
    "        'start_time': 20,\n",
    "        'end_time': 60\n",
    "    }, \n",
    "    {\n",
    "        'start_time': 40,\n",
    "        'end_time': 42\n",
    "    },\n",
    "    {\n",
    "        'start_time': 55,\n",
    "        'end_time': 100\n",
    "    },\n",
    "    {\n",
    "        'start_time': 56,\n",
    "        'end_time': 80\n",
    "    },\n",
    "    {\n",
    "        'start_time': 60,\n",
    "        'end_time': 101\n",
    "    },\n",
    "    {\n",
    "        'start_time': 80,\n",
    "        'end_time': 100\n",
    "    }\n",
    "\n",
    "])"
   ]
  },
  {
   "cell_type": "code",
   "execution_count": null,
   "metadata": {},
   "outputs": [],
   "source": []
  }
 ],
 "metadata": {
  "kernelspec": {
   "display_name": "Python 3",
   "language": "python",
   "name": "python3"
  },
  "language_info": {
   "codemirror_mode": {
    "name": "ipython",
    "version": 3
   },
   "file_extension": ".py",
   "mimetype": "text/x-python",
   "name": "python",
   "nbconvert_exporter": "python",
   "pygments_lexer": "ipython3",
   "version": "3.8.10"
  }
 },
 "nbformat": 4,
 "nbformat_minor": 2
}
